{
 "cells": [
  {
   "cell_type": "markdown",
   "id": "fe8bcb3f-501b-4b05-a120-f9a27b8dd3a7",
   "metadata": {},
   "source": [
    "Question 1\n"
   ]
  },
  {
   "cell_type": "code",
   "execution_count": null,
   "id": "4f1e8b7e-20de-407b-8059-03abf719c7c4",
   "metadata": {},
   "outputs": [],
   "source": [
    "library(knitr)\n",
    "\n",
    "# Defining the sample space on the genotypes for both independent sites \n",
    "sample_space <- data.frame(\n",
    "  site1 = rep(c(\"00\", \"01\", \"11\"), each = 3),\n",
    "  site2 = rep(c(\"00\", \"01\", \"11\"), times = 3)\n",
    ") #calculating the occurrences of 11's across the rows \n",
    "sample_space$G <- rowSums(matrix(unlist(strsplit(paste(sample_space$site1, sample_space$site2), \" \")), ncol = 2) == \"11\")\n",
    "\n",
    "# Manually define G counts and corresponding probabilities\n",
    "pmf_df <- data.frame(\n",
    "  G = c(\"0\", \"1\", \"2\", \"3\", \"4\"),\n",
    "  Probability = c(1/9, 2/9, 3/9, 2/9, 1/9)\n",
    ")\n",
    "\n",
    "# Print the PMF in the desired format using knitr's kable function\n",
    "cat(\"Probability Mass Function (PMF) of G:\\n\")\n",
    "knitr::kable(pmf_df, align = \"c\")\n",
    "\n",
    "\n"
   ]
  },
  {
   "cell_type": "markdown",
   "id": "5a803fdf-17c0-4572-ad53-4225bce04c64",
   "metadata": {},
   "source": [
    "Question 1.2"
   ]
  },
  {
   "cell_type": "code",
   "execution_count": null,
   "id": "66d21f85-4439-4ea7-ab4d-b5d02f0add26",
   "metadata": {},
   "outputs": [],
   "source": [
    "# Manually define G counts and corresponding probabilities\n",
    "pmf_df <- data.frame(\n",
    "  G = c(\"0\", \"1\", \"2\", \"3\", \"4\"),\n",
    "  Probability = c(1/9, 2/9, 3/9, 2/9, 1/9)\n",
    ")\n",
    "\n",
    "# Calculate Cumulative Distribution Function (CDF)\n",
    "pmf_df$Cumulative_Prob <- cumsum(pmf_df$Probability)\n",
    "\n",
    "# Create step function for CDF and plot \n",
    "plot(pmf_df$G, pmf_df$Cumulative_Prob, type = \"s\", col = \"#000000\", lwd = 5,\n",
    "     xlab = \"Alternative Allele counts\", ylab = \"Cumulative Probability\", main = \"Cumulative Distribution Function (CDF) of G\")\n",
    "plot(as.numeric(pmf_df$G), pmf_df$Probability,  type = \"p\", col = \"#333333\", pch = 19, xlab = \"Alternative allele count\", ylab = \"Probabilities\",\n",
    "main = \"Probability Mass Function (PMF) of G\")\n",
    "\n",
    "\n",
    "\n",
    "\n"
   ]
  },
  {
   "cell_type": "markdown",
   "id": "a2721b16-8881-456b-8ead-108a8145aeb1",
   "metadata": {},
   "source": [
    "Question 2"
   ]
  },
  {
   "cell_type": "code",
   "execution_count": null,
   "id": "30e3e53c-e13a-44fb-9559-669c2fe9b06d",
   "metadata": {},
   "outputs": [],
   "source": [
    "# Create the data frame with the given genotypes\n",
    "data_2 <- data.frame(\n",
    "  sample_2 = 1:10,\n",
    "  myVariant1 = c(\"00\", \"00\", \"11\", \"01\", \"11\", \"00\", \"01\", \"00\", \"11\", \"11\"),\n",
    "  myVariant2 = c(\"01\", \"01\", \"00\", \"11\", \"01\", \"00\", \"01\", \"11\", \"00\", \"11\")\n",
    ")\n",
    "\n",
    "# Convert genotypes to a numeric representation and calculate G\n",
    "data_2$myG <- as.integer(substr(data_2$myVariant1, 1, 1)) + as.integer(substr(data_2$myVariant1, 2, 2)) +\n",
    "              as.integer(substr(data_2$myVariant2, 1, 1)) + as.integer(substr(data_2$myVariant2, 2, 2))\n",
    "\n",
    "# Calculate metrics: mean, standard deviation, and skew\n",
    "new_sd <- sd(data_2$myG)\n",
    "new_skewness <- sum((data_2$myG - mean(data_2$myG))^3) / (length(data_2$myG) * new_sd^3)\n",
    "new_mean <- mean(data_2$myG)\n",
    "\n",
    "# output the metrics of mean, skew and standard deviation \n",
    "cat(\"The Mean of the data is :\", round(new_mean, digits = 6), \"\\n\")\n",
    "cat(\"The SD of the data is :\", round(new_sd, digits = 6), \"\\n\")\n",
    "cat(\"The Skew of the data is:\", round(new_skewness, digits = 6), \"\\n\")\n",
    "\n",
    "# generate a histogram\n",
    "hist(data_2$myG, breaks = seq(min(data_2$myG) - 0.5, max(data_2$myG) + 0.5, by = 1), col = \"#000000\", border = \"#8F9779\",\n",
    "     xlab = \"Number of Alternate Alleles (G)\", ylab = \"Frequency\", main = \"Distribution of Variable G\")\n"
   ]
  },
  {
   "cell_type": "markdown",
   "id": "2dff06bd-3a67-4ff1-b600-0f5255a9eccc",
   "metadata": {},
   "source": [
    "Question 2.2"
   ]
  },
  {
   "cell_type": "code",
   "execution_count": null,
   "id": "c2f09d90-a15a-4c1d-8dc4-f25138fc2d95",
   "metadata": {},
   "outputs": [],
   "source": [
    "# outline the null and alternative hypothesis's\n",
    "H0 <- \"The mean of G is equal to the mean of G2\"\n",
    "H1 <- \"The mean of G is not equal to the mean of G2\"\n",
    "\n",
    "# Perform a two-sample t-test\n",
    "G2 <- c(2, 4, 2, 3, 3, 3, 2, 3, 3, 4)\n",
    "t_test_result <- t.test(data_2$myG, G2)\n",
    "\n",
    "# Report statement for the test\n",
    "print(\"Task 2.2 Report:\")\n",
    "print(paste(\"Null hypothesis (H0):\", H0))\n",
    "print(paste(\"Alternative hypothesis (H1):\", H1))\n",
    "print(\"Test Result:\")\n",
    "rejected <- ifelse(t_test_result$p.value < 0.05, \"is rejected\", \"cannot be rejected\")\n",
    "print(paste(\"The null hypothesis of means being equal\", rejected, \"at the significance level of 5%.\"))\n",
    "t_stat <- round(t_test_result$statistic, digits = 6)\n",
    "p_val <- round(t_test_result$p.value, digits = 6)\n",
    "print(paste(\"The t-test for the means of Variable G and G2 gives a t-statistic of\", t_stat,\n",
    "            \"with a p-value of\", p_val))\n"
   ]
  },
  {
   "cell_type": "markdown",
   "id": "814f3b82-279e-4e90-a77a-46fab0901d95",
   "metadata": {},
   "source": [
    "Question 3"
   ]
  },
  {
   "cell_type": "code",
   "execution_count": null,
   "id": "ed8e3eb3-7ea9-4f03-864d-fe5f069e9008",
   "metadata": {},
   "outputs": [],
   "source": [
    "install.packages(\"ggplot2\")\n",
    "library(ggplot2)\n",
    "\n",
    "\n",
    "data_3 <- read.csv(\"assignment.csv\")\n",
    "data_3$income <- as.integer(data_3$income)\n",
    "data_3$genotypes <- as.numeric(as.character(data_3$genotypes))\n",
    "data_3$ancestry <- as.factor(data_3$ancestry)\n",
    "\n",
    "# Fit first and second models\n",
    "first_model <- lm(risk ~ genotypes + ancestry + income, data = data_3)\n",
    "secound_model <- lm(risk ~ genotypes * ancestry, data = data_3)\n",
    "\n",
    "# Create a scatter plot of genotypes vs. risk with different colors for each ancestry level\n",
    "ggplot(data_3, aes(x = genotypes, y = risk, color = ancestry)) +\n",
    "  geom_point() +\n",
    "  labs(title = \"Genotypes vs. Risk by Ancestry\", x = \"Genotypes\", y = \"Risk\") +\n",
    "  scale_color_manual(values = c(\"#FF5733\", \"#33FFC7\", \"#C733FF\")) + \n",
    "  geom_smooth(data = subset(data_3, ancestry %in% c(1, 2, 3)), method = \"lm\", formula = y ~ x, aes(color = as.factor(ancestry), linetype = as.factor(ancestry)), se = FALSE) +  # Ancestry 1, 2, 3 regression lines with different line types\n",
    "  scale_linetype_manual(values = c(\"dotted\", \"dashed\", \"dotdash\")) +  # Different line types\n",
    "  annotate(\"text\", x = max(data_3$genotypes), y = max(data_3$risk), label = paste(\"First Model: \", round(summary(first_model)$adj.r.squared, 3)), hjust = 1) +  # Annotation for first model R-squared\n",
    "  annotate(\"text\", x = max(data_3$genotypes), y = min(data_3$risk), label = paste(\"Secound Model: \", round(summary(secound_model)$adj.r.squared, 3)), hjust = 1) +  # Annotation for second model R-squared\n",
    "  theme_minimal()\n",
    "\n",
    "summary(secound_model)\n",
    "summary(first_model)\n",
    "\n",
    "\n",
    "cat(\"Since income had no statistical significance (p = 0.86001), it was omitted from the model and it was taken out of the final model. \n",
    "\n",
    "Strong correlations between risk and genotypes, as well as ancestry groups 2 and 3, were revealed by the linear regression analysis. With a rise of around 4.9807 units per unit shift, genotypes were shown to have a considerable impact on risk; ancestry groups 2 and 3 contributed 4.3473 and 6.7463 units, respectively, over the baseline group (ancestry 1).\n",
    "\n",
    "Highly significant p-values (*** for p < 0.001, ** for p < 0.01, * for p < 0.05) for genotypes, ancestry2, and ancestry3 indicated statistical significance. R-squared: 0.4244, adjusted R-squared: 0.4156) showed that the model fit well and explained around 42.44% of the variability in risk. The significance of predictors in explaining risk variation as a whole was highlighted by the F-statistic (48.17, p-value: < 2.2e-16).\n",
    "\n",
    "Overall, this analysis—which was backed by strong statistical evidence and a well-fitting model—emphasized the critical roles that genotypes and particular ancestry groups play in predicting risk.\")\n"
   ]
  },
  {
   "cell_type": "markdown",
   "id": "d630c42c-0f0a-4e9f-a929-cb58c14a9862",
   "metadata": {},
   "source": [
    "Question 4"
   ]
  },
  {
   "cell_type": "code",
   "execution_count": null,
   "id": "7aad969a-b01e-47bb-ba84-d55e00404695",
   "metadata": {},
   "outputs": [],
   "source": [
    "# Read the CSV file\n",
    "data <- read.csv(\"assignment.csv\")\n",
    "\n",
    "likelihood_mixture <- function(p, d) {\n",
    "  pdf <- p[1] * dnorm(d, p[2], p[2] / 10) + (1 - p[1]) * dnorm(d, p[3], p[3] / 10)\n",
    "  \n",
    "  # Error handling to to avoid NAN error as multiplication of probabilities leads to \n",
    "    #numbers near zero so it is set at a predefined threshold \n",
    "  epsilon <- 1e-300\n",
    "  pdf_safe <- ifelse(pdf < epsilon, epsilon, pdf)\n",
    "  \n",
    "  sum(log(pdf_safe))\n",
    "}\n",
    "\n",
    "estimate_parameters <- function(sd) {\n",
    "  init_alpha <- 0.5\n",
    "  init_mu1 <- 25\n",
    "  init_mu2 <- 35\n",
    "  # optimization is used to find the MLE of the observed likelihood observed in the data \n",
    "  optim(c(init_alpha, init_mu1, init_mu2), likelihood_mixture, d = sd, control = list(fnscale = -1))$par\n",
    "}\n",
    "\n",
    "bootstrap <- function(d, n, f) {\n",
    "  replicate(n, f(sample(d, replace = TRUE)))\n",
    "}\n",
    "\n",
    "set.seed(100)  # seed value is set for reproducibility\n",
    "\n",
    "#perform bootstrap resampling estimate the parameters\n",
    "boot_results <- bootstrap(data$income, 1000, estimate_parameters)\n",
    "point_estimates <- apply(boot_results, 1, mean)\n",
    "standard_deviations <- apply(boot_results, 1, sd)\n",
    "\n",
    "#computes the confidence intervals using quantiles\n",
    "q <- function(r) quantile(r, c(0.025, 0.975))\n",
    "alpha_ci <- q(boot_results[1, ])\n",
    "mu1_ci <- q(boot_results[2, ])\n",
    "mu2_ci <- q(boot_results[3, ])\n",
    "\n",
    "cat(\"Point Estimates:\", point_estimates, \"\\nStandard Deviations:\", standard_deviations, \"\\nAlpha CI:\", alpha_ci, \"\\nMu1 CI:\", mu1_ci, \"\\nMu2 CI:\", mu2_ci, \"\\n\")\n",
    "\n",
    "# Plot histogram with the title \n",
    "hist(data$income, freq = FALSE, col = \"#000000\", xlab = \"Income\", main = \"Histogram of Income with Mixed Normal Distributions\")\n",
    "\n",
    "# puts the density curves for the estimated mixed model distributions \n",
    "curve(point_estimates[1] * dnorm(x, point_estimates[2], point_estimates[2] / 10) + \n",
    "      (1 - point_estimates[1]) * dnorm(x, point_estimates[3], point_estimates[3] / 10),\n",
    "      col = \"#FF0000\", lwd = 2, add = TRUE)\n",
    "\n",
    "# adds a legend to the plot \n",
    "legend(\"topright\", legend = c(\"Mixed Normal Distribution 1\", \"Mixed Normal Distribution 2\"), \n",
    "       col = c(\"#FF0000\", \"#000000\"), lty = 1, lwd = 2)\n",
    "\n"
   ]
  },
  {
   "cell_type": "code",
   "execution_count": null,
   "id": "fe95c688-d19e-47c9-b17f-ec689390ef65",
   "metadata": {},
   "outputs": [],
   "source": [
    "\n"
   ]
  }
 ],
 "metadata": {
  "kernelspec": {
   "display_name": "R",
   "language": "R",
   "name": "ir"
  },
  "language_info": {
   "codemirror_mode": "r",
   "file_extension": ".r",
   "mimetype": "text/x-r-source",
   "name": "R",
   "pygments_lexer": "r",
   "version": "4.3.1"
  }
 },
 "nbformat": 4,
 "nbformat_minor": 5
}
